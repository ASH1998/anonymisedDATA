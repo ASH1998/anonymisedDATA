{
 "cells": [
  {
   "cell_type": "code",
   "execution_count": 1,
   "metadata": {},
   "outputs": [],
   "source": [
    "import matplotlib as mat\n",
    "import pandas as pd\n",
    "import matplotlib.pyplot as plt\n",
    "import seaborn as sns\n",
    "import numpy as np\n",
    "import time\n",
    "\n",
    "pd.set_option('display.max_rows', 100)\n",
    "pd.set_option('display.max_columns', 100)\n",
    "mat.rcParams['agg.path.chunksize'] = 1000000000000\n",
    "\n",
    "from matplotlib import style\n",
    "style.use('fivethirtyeight')\n",
    "%matplotlib inline"
   ]
  },
  {
   "cell_type": "code",
   "execution_count": 18,
   "metadata": {},
   "outputs": [],
   "source": [
    "from sklearn.model_selection import train_test_split\n",
    "from sklearn.preprocessing import minmax_scale, LabelEncoder\n",
    "from sklearn.metrics import accuracy_score, cohen_kappa_score, mean_absolute_error, mean_squared_error, log_loss\n",
    "from catboost import CatBoostClassifier, Pool\n",
    "\n",
    "from imblearn.over_sampling import RandomOverSampler"
   ]
  },
  {
   "cell_type": "code",
   "execution_count": 3,
   "metadata": {},
   "outputs": [],
   "source": [
    "DIR_NAME = \"zipfilee_FILES/ds_data/\"\n",
    "TRAIN_FILE = \"data_train.csv\"\n",
    "TEST_FILE = \"data_test.csv\""
   ]
  },
  {
   "cell_type": "code",
   "execution_count": 4,
   "metadata": {},
   "outputs": [],
   "source": [
    "train = pd.read_csv(DIR_NAME+TRAIN_FILE)\n",
    "test = pd.read_csv(DIR_NAME+TEST_FILE)"
   ]
  },
  {
   "cell_type": "code",
   "execution_count": 5,
   "metadata": {},
   "outputs": [
    {
     "name": "stdout",
     "output_type": "stream",
     "text": [
      "cat1  completed!\n",
      "cat2  completed!\n",
      "cat3  completed!\n",
      "cat4  completed!\n",
      "cat5  completed!\n",
      "cat12  completed!\n",
      "cat1  completed!\n",
      "cat2  completed!\n",
      "cat3  completed!\n",
      "cat4  completed!\n",
      "cat5  completed!\n",
      "cat12  completed!\n"
     ]
    }
   ],
   "source": [
    "#too many unique values as well as too many missing values, let's remove it\n",
    "train.drop('num18', axis=1, inplace=True)\n",
    "#too many missing values, and less categories, lets make the missing as another category, here 88,99 and 66 for example.\n",
    "train.cat6.fillna(88, inplace=True)\n",
    "train.cat8.fillna(99, inplace=True)\n",
    "train.cat10.fillna(66, inplace=True)\n",
    "#Replace these categories with the most frequent label.\n",
    "agg_cat = [\"cat1\", \"cat2\", \"cat3\", \"cat4\", \"cat5\", \"cat12\"]\n",
    "for i in agg_cat:\n",
    "    max_ = train[i].value_counts()\n",
    "    for j in max_.index:\n",
    "        if max_[j] == max_.max():\n",
    "            val = j\n",
    "    train[i].fillna(j, inplace=True)\n",
    "    print(i, \" completed!\")\n",
    "#The rest less missing values\n",
    "train.fillna(-999, inplace=True)\n",
    "\n",
    "#---------------------------------------------------------------------------------------------------------------------------\n",
    "#doing the same with test features\n",
    "#too many unique values as well as too many missing values, let's remove it\n",
    "test.drop('num18', axis=1, inplace=True)\n",
    "#too many missing values, and less categories, lets make the missing as another category, here 88,99 and 66 for example.\n",
    "test.cat6.fillna(88, inplace=True)\n",
    "test.cat8.fillna(99, inplace=True)\n",
    "test.cat10.fillna(66, inplace=True)\n",
    "#Replace these categories with the most frequent label.\n",
    "agg_cat = [\"cat1\", \"cat2\", \"cat3\", \"cat4\", \"cat5\", \"cat12\"]\n",
    "for i in agg_cat:\n",
    "    max_ = train[i].value_counts()\n",
    "    for j in max_.index:\n",
    "        if max_[j] == max_.max():\n",
    "            val = j\n",
    "    train[i].fillna(j, inplace=True)\n",
    "    print(i, \" completed!\")\n",
    "#The rest less missing values\n",
    "train.fillna(-999, inplace=True)"
   ]
  },
  {
   "cell_type": "code",
   "execution_count": 6,
   "metadata": {},
   "outputs": [
    {
     "name": "stdout",
     "output_type": "stream",
     "text": [
      "(596000, 57)\n",
      "(892816, 56)\n"
     ]
    }
   ],
   "source": [
    "print(train.shape)\n",
    "print(test.shape)"
   ]
  },
  {
   "cell_type": "code",
   "execution_count": 7,
   "metadata": {},
   "outputs": [
    {
     "name": "stdout",
     "output_type": "stream",
     "text": [
      "Index(['id', 'num1', 'num2', 'num3', 'num4', 'num5', 'num6', 'num7', 'num8',\n",
      "       'num9', 'num10', 'num11', 'num12', 'num13', 'num14', 'num15', 'num16',\n",
      "       'num17', 'num19', 'num20', 'num21', 'num22', 'num23', 'der1', 'der2',\n",
      "       'der3', 'der4', 'der5', 'der6', 'der7', 'der8', 'der9', 'der10',\n",
      "       'der11', 'der12', 'der13', 'der14', 'der15', 'der16', 'der17', 'der18',\n",
      "       'der19', 'cat1', 'cat2', 'cat3', 'cat4', 'cat5', 'cat6', 'cat7', 'cat8',\n",
      "       'cat9', 'cat10', 'cat11', 'cat12', 'cat13', 'cat14', 'target'],\n",
      "      dtype='object')\n"
     ]
    }
   ],
   "source": [
    "print(train.columns)"
   ]
  },
  {
   "cell_type": "code",
   "execution_count": 8,
   "metadata": {},
   "outputs": [
    {
     "name": "stderr",
     "output_type": "stream",
     "text": [
      "/home/ashu2_gamer/.local/lib/python3.5/site-packages/ipykernel_launcher.py:10: DataConversionWarning: Data with input dtype int64, float64 were all converted to float64.\n",
      "  # Remove the CWD from sys.path while we load stuff.\n",
      "/home/ashu2_gamer/.local/lib/python3.5/site-packages/ipykernel_launcher.py:11: DataConversionWarning: Data with input dtype int64, float64 were all converted to float64.\n",
      "  # This is added back by InteractiveShellApp.init_path()\n"
     ]
    }
   ],
   "source": [
    "col1 = ['num1', 'num2', 'num3', 'num4', 'num5', 'num6', 'num7', 'num8',\n",
    "       'num9', 'num10', 'num11', 'num12', 'num13', 'num14', 'num15', 'num16',\n",
    "       'num17', 'num19', 'num20', 'num21', 'num22', 'num23', 'der1', 'der2',\n",
    "       'der3', 'der4', 'der5', 'der6', 'der7', 'der8', 'der9', 'der10',\n",
    "       'der11', 'der12', 'der13', 'der14', 'der15', 'der16', 'der17', 'der18',\n",
    "       'der19']\n",
    "col2 = ['cat1', 'cat2', 'cat3', 'cat4', 'cat5', 'cat6', 'cat7', 'cat8',\n",
    "       'cat9', 'cat10', 'cat11', 'cat12', 'cat13', 'cat14']\n",
    "\n",
    "train[col1] = minmax_scale(train[col1])\n",
    "test[col1] = minmax_scale(test[col1])"
   ]
  },
  {
   "cell_type": "code",
   "execution_count": 9,
   "metadata": {},
   "outputs": [],
   "source": [
    "le = LabelEncoder()\n",
    "for i in col2:\n",
    "    train[i] = le.fit_transform(train[i])\n",
    "    test[i] = le.fit_transform(test[i])\n",
    "\n",
    "y = train.target\n",
    "train.drop([\"target\", \"id\"], axis=1, inplace=True)\n",
    "test.drop(\"id\", axis=1, inplace=True)"
   ]
  },
  {
   "cell_type": "code",
   "execution_count": 10,
   "metadata": {},
   "outputs": [
    {
     "name": "stdout",
     "output_type": "stream",
     "text": [
      "TRAIN :  (417200, 55)  and  (417200,)\n",
      "TEST :  (59600, 55)  and  (59600,)\n",
      "VALIDATION :  (178800, 55)  and  (178800,)\n",
      "MAIN TO PREDICT  (892816, 55)\n"
     ]
    }
   ],
   "source": [
    "x_train, x_test, y_train, y_test = train_test_split(train, y, test_size=0.1)\n",
    "x_train, x_val, y_train, y_val = train_test_split(train, y, test_size=0.3)\n",
    "print(\"TRAIN : \", x_train.shape , \" and \", y_train.shape)\n",
    "print(\"TEST : \", x_test.shape, \" and \", y_test.shape)\n",
    "print(\"VALIDATION : \", x_val.shape, \" and \", y_val.shape)\n",
    "print(\"MAIN TO PREDICT \", test.shape)"
   ]
  },
  {
   "cell_type": "code",
   "execution_count": 12,
   "metadata": {},
   "outputs": [
    {
     "name": "stdout",
     "output_type": "stream",
     "text": [
      "(803876, 55) (803876,)\n"
     ]
    }
   ],
   "source": [
    "ros = RandomOverSampler(random_state=0)\n",
    "ros.fit(x_train, y_train)\n",
    "X_resampledo, y_resampledo = ros.fit_sample(x_train, y_train)\n",
    "print(X_resampledo.shape, y_resampledo.shape)"
   ]
  },
  {
   "cell_type": "code",
   "execution_count": 13,
   "metadata": {},
   "outputs": [
    {
     "data": {
      "text/plain": [
       "<catboost.core.CatBoostClassifier at 0x7fb433be3b70>"
      ]
     },
     "execution_count": 13,
     "metadata": {},
     "output_type": "execute_result"
    }
   ],
   "source": [
    "catboost_pool = Pool(X_resampledo, y_resampledo)\n",
    "cat_model = CatBoostClassifier(task_type='GPU', iterations=20000, learning_rate=0.03, early_stopping_rounds=5)\n",
    "cat_model.fit(X_resampledo, y_resampledo, verbose=False, plot=False, eval_set=(x_val, y_val),)"
   ]
  },
  {
   "cell_type": "code",
   "execution_count": 16,
   "metadata": {},
   "outputs": [
    {
     "name": "stdout",
     "output_type": "stream",
     "text": [
      "0.9595469798657719\n"
     ]
    }
   ],
   "source": [
    "print(cat_model.score(x_test,y_test))"
   ]
  },
  {
   "cell_type": "code",
   "execution_count": 30,
   "metadata": {},
   "outputs": [
    {
     "name": "stdout",
     "output_type": "stream",
     "text": [
      "ACCURACY SCORE :  0.9595469798657719\n",
      "MAE :  0.04045302013422819\n",
      "MSE :  0.04045302013422819\n",
      "LOG LOSS :  1.3972224622249825\n",
      "COHEN KAPPA :  0.5405698515071178\n"
     ]
    }
   ],
   "source": [
    "y_pred = cat_model.predict(x_test)\n",
    "print(\"ACCURACY SCORE : \", accuracy_score(y_test, y_pred))\n",
    "print(\"MAE : \",mean_absolute_error(y_test, y_pred))\n",
    "print(\"MSE : \", mean_squared_error(y_test, y_pred))\n",
    "print(\"LOG LOSS : \", log_loss(y_test, y_pred))\n",
    "print(\"COHEN KAPPA : \", cohen_kappa_score(y_test, y_pred))"
   ]
  },
  {
   "cell_type": "code",
   "execution_count": 21,
   "metadata": {},
   "outputs": [
    {
     "name": "stdout",
     "output_type": "stream",
     "text": [
      "3375\n"
     ]
    }
   ],
   "source": [
    "ypred = cat_model.predict(x_test)\n",
    "m=n=0\n",
    "for i in range(len(ypred)):\n",
    "    if ypred[i] == 0:\n",
    "        m+=1\n",
    "    else:\n",
    "        n+=1\n",
    "print(n)"
   ]
  },
  {
   "cell_type": "code",
   "execution_count": 22,
   "metadata": {},
   "outputs": [
    {
     "name": "stdout",
     "output_type": "stream",
     "text": [
      "5457\n"
     ]
    }
   ],
   "source": [
    "for i in range(len(y_test)):\n",
    "    if y_val.iloc[i] == 0:\n",
    "        m+=1\n",
    "    else:\n",
    "        n+=1\n",
    "print(n)"
   ]
  },
  {
   "cell_type": "code",
   "execution_count": 23,
   "metadata": {},
   "outputs": [],
   "source": [
    "y_need = cat_model.predict(test)"
   ]
  },
  {
   "cell_type": "code",
   "execution_count": 24,
   "metadata": {},
   "outputs": [
    {
     "name": "stdout",
     "output_type": "stream",
     "text": [
      "5916\n"
     ]
    }
   ],
   "source": [
    "for i in range(len(y_need)):\n",
    "    if y_need[i] == 0:\n",
    "        m+=1\n",
    "    else:\n",
    "        n+=1\n",
    "print(n)"
   ]
  },
  {
   "cell_type": "code",
   "execution_count": 25,
   "metadata": {},
   "outputs": [],
   "source": [
    "y_proba = cat_model.predict_proba(test)"
   ]
  },
  {
   "cell_type": "code",
   "execution_count": 26,
   "metadata": {},
   "outputs": [],
   "source": [
    "result = pd.DataFrame(data=y_proba, index=test.index)"
   ]
  },
  {
   "cell_type": "code",
   "execution_count": 27,
   "metadata": {},
   "outputs": [
    {
     "data": {
      "text/plain": [
       "(892816, 2)"
      ]
     },
     "execution_count": 27,
     "metadata": {},
     "output_type": "execute_result"
    }
   ],
   "source": [
    "result.shape"
   ]
  },
  {
   "cell_type": "code",
   "execution_count": 28,
   "metadata": {},
   "outputs": [],
   "source": [
    "result.to_csv(\"finalsub.csv\")"
   ]
  },
  {
   "cell_type": "code",
   "execution_count": null,
   "metadata": {},
   "outputs": [],
   "source": []
  }
 ],
 "metadata": {
  "kernelspec": {
   "display_name": "Python 3",
   "language": "python",
   "name": "python3"
  },
  "language_info": {
   "codemirror_mode": {
    "name": "ipython",
    "version": 3
   },
   "file_extension": ".py",
   "mimetype": "text/x-python",
   "name": "python",
   "nbconvert_exporter": "python",
   "pygments_lexer": "ipython3",
   "version": "3.5.2"
  }
 },
 "nbformat": 4,
 "nbformat_minor": 2
}
